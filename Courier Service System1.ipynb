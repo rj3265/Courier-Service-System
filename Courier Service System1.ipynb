{
 "cells": [
  {
   "cell_type": "code",
   "execution_count": 1,
   "id": "89bb7df0",
   "metadata": {},
   "outputs": [],
   "source": [
    "import mysql.connector\n",
    "mydb=mysql.connector.connect(\n",
    "    host= 'localhost', \n",
    "    user= 'root' ,\n",
    "    passwd= '1234', \n",
    "    database='Courier_service_system_g1' )\n",
    "mycursor = mydb.cursor()\n",
    "\n",
    "mycursor.execute(\"create table courier(customer_name varchar(99) ,customer_mobile_number varchar(789),customer_address text(789),receiver_name varchar(99) ,receiver_mobile_number varchar(789),receiver_address text(789))\")"
   ]
  },
  {
   "cell_type": "code",
   "execution_count": 2,
   "id": "de5142a7",
   "metadata": {},
   "outputs": [],
   "source": [
    "import mysql.connector\n",
    "mydb=mysql.connector.connect(\n",
    "    host= 'localhost', \n",
    "    user= 'root' ,\n",
    "    passwd= '1234', \n",
    "    database='Courier_service_system_g1' )\n",
    "mycursor = mydb.cursor()\n",
    "\n",
    "mycursor.execute('create table couriers2(Weight_in_kgs varchar(789),Cost_in_rupees varchar(789));')"
   ]
  },
  {
   "cell_type": "code",
   "execution_count": 3,
   "id": "fb20e9eb",
   "metadata": {},
   "outputs": [],
   "source": [
    "import mysql.connector\n",
    "mydb=mysql.connector.connect(\n",
    "    host= 'localhost', \n",
    "    user= 'root' ,\n",
    "    passwd= '1234', \n",
    "    database='Courier_service_system_g1' )\n",
    "mycursor = mydb.cursor()\n",
    "\n",
    "mycursor.execute('create table couriers3(city varchar(99),courier_boys varchar(99),courier_service_boys_mob_number varchar(99));')"
   ]
  },
  {
   "cell_type": "code",
   "execution_count": 4,
   "id": "da0ce97c",
   "metadata": {},
   "outputs": [
    {
     "name": "stdout",
     "output_type": "stream",
     "text": [
      "19 was inserted.\n"
     ]
    }
   ],
   "source": [
    "import mysql.connector\n",
    "mydb=mysql.connector.connect(\n",
    "    host= 'localhost', \n",
    "    user= 'root' ,\n",
    "    passwd= '1234', \n",
    "    database='Courier_service_system_g1' )\n",
    "mycursor = mydb.cursor()\n",
    "\n",
    "sql = \"INSERT INTO couriers2 (Weight_in_kgs, Cost_in_rupees) VALUES (%s, %s)\"\n",
    "\n",
    "val = [\n",
    "    ('1kg','50Rs'),\n",
    "    ('2kg','75Rs'),\n",
    "    ('3kg','100Rs'),\n",
    "    ('4kg','125Rs'),\n",
    "    ('5kg','150Rs'),\n",
    "    ('10kg','275Rs'),\n",
    "    ('20kg','525Rs'),\n",
    "    ('30kg','775Rs'),\n",
    "    ('40kg','1025Rs'),\n",
    "    ('50kg','1275Rs'),\n",
    "    ('100kg','2520Rs'),\n",
    "    ('150kg','3770Rs'),\n",
    "    ('200kg','5020Rs'),\n",
    "    ('250kg','6270Rs'),\n",
    "    ('300kg','7520Rs'),\n",
    "    ('350kg','8770Rs'),\n",
    "    ('400kg','10020Rs'),\n",
    "    ('450kg','11270Rs'),\n",
    "    ('500kg','12520Rs'),\n",
    "]\n",
    "\n",
    "\n",
    "mycursor.executemany(sql, val)\n",
    "\n",
    "mydb.commit()\n",
    "\n",
    "print(mycursor.rowcount, \"was inserted.\")"
   ]
  },
  {
   "cell_type": "code",
   "execution_count": 5,
   "id": "1a7dc43b",
   "metadata": {},
   "outputs": [
    {
     "name": "stdout",
     "output_type": "stream",
     "text": [
      "9 was inserted.\n"
     ]
    }
   ],
   "source": [
    "import mysql.connector\n",
    "mydb=mysql.connector.connect(\n",
    "    host= 'localhost', \n",
    "    user= 'root' ,\n",
    "    passwd= '1234', \n",
    "    database='Courier_service_system_g1' )\n",
    "mycursor = mydb.cursor()\n",
    "\n",
    "sql = \"INSERT INTO couriers3 (city, courier_boys, courier_service_boys_mob_number) VALUES (%s, %s, %s)\"\n",
    "\n",
    "val = [\n",
    "    ('Delhi','Abhishek Singh','25648'),\n",
    "    ('Delhi','Raman Dua','25659'),\n",
    "    ('Delhi','Rahul Kumar','25672'),\n",
    "    ('Gurugram','Surubhi Goel','24889'),\n",
    "    ('Faridabad','Subhash Bose','27895'),\n",
    "    ('Gurugram','Natasha Singh','24857'),\n",
    "    ('Faridabad','Lokesh Kumar','27546'),\n",
    "    ('Faridabad','Kamlesh Rana','27456'),\n",
    "    ('Gurugram','Yogi Singh','24159'),\n",
    "]\n",
    "\n",
    "mycursor.executemany(sql, val)\n",
    "\n",
    "mydb.commit()\n",
    "\n",
    "print(mycursor.rowcount, \"was inserted.\")\n"
   ]
  },
  {
   "cell_type": "code",
   "execution_count": null,
   "id": "757e4b9d",
   "metadata": {},
   "outputs": [
    {
     "name": "stdout",
     "output_type": "stream",
     "text": [
      "WELCOME TO G&S COURIER SERVICE:\n",
      "Hi\n",
      "Press enter to begin your courier surfing  -  Hi\n",
      "1.CREATE YOUR COURIER SERVICE ACCOUNT  -  \n",
      "2.LOGIN\n",
      "ENTER (1) FOR NEW ACCOUNT OR (2) FOR LOGIN:  -  1\n",
      "Enter your Username  -  rj326\n",
      "Set your password here -  1234\n",
      "Confirm password  -  1234\n",
      "1 record inserted\n",
      "ACCOUNT CREATED CONGRATULATIONS\n"
     ]
    }
   ],
   "source": [
    "import mysql.connector\n",
    "mydb=mysql.connector.connect(\n",
    "    host= 'localhost', \n",
    "    user= 'root' ,\n",
    "    passwd= '1234', \n",
    "    database='Courier_service_system_g1' )\n",
    "mycursor = mydb.cursor()\n",
    "\n",
    "print('WELCOME TO G&S COURIER SERVICE:')\n",
    "print('Hi')\n",
    "o=input('Press enter to begin your courier surfing  -  ')\n",
    "print('1.CREATE YOUR COURIER SERVICE ACCOUNT  -  ')\n",
    "print('2.LOGIN')\n",
    "choose=int(input('ENTER (1) FOR NEW ACCOUNT OR (2) FOR LOGIN:  -  '))\n",
    "if choose==1:\n",
    "    \n",
    "    n=input('Enter your Username  -  ')\n",
    "    p=input('Set your password here -  ')\n",
    "    q=input('Confirm password  -  ')\n",
    "    \n",
    "    sql = \"INSERT INTO login (User_name, Password) VALUES(%s,%s)\"\n",
    "    val = [\n",
    "        (n,q),\n",
    "    ]\n",
    "    mycursor.executemany(sql,val)\n",
    "    \n",
    "    mydb.commit()\n",
    "    \n",
    "    print(mycursor.rowcount,\"record inserted\")\n",
    "    \n",
    "    print('ACCOUNT CREATED CONGRATULATIONS')\n",
    "    move_in=input('press enter to login:')\n",
    "    %run B_Menu.ipynb\n",
    "    \n",
    "    \n",
    "elif choose==2:\n",
    "    \n",
    "    email=input('Enter your user_name')\n",
    "    passd=input('Enter your PASSWORD:')\n",
    "    \n",
    "    sql = \"SELECT * FROM courier WHERE user_name and password = '{}'and'{}' \".format(email and passd)\n",
    "    \n",
    "    mycursor.execute(sql)\n",
    "\n",
    "    myresult = mycursor.fetchone()\n",
    "    \n",
    "    \n",
    "    if myresult.fetchone() is None:\n",
    "        print(' sorry your password in wrong')\n",
    "    else:\n",
    "          %run B_Menu.ipynb"
   ]
  }
 ],
 "metadata": {
  "kernelspec": {
   "display_name": "Python 3",
   "language": "python",
   "name": "python3"
  },
  "language_info": {
   "codemirror_mode": {
    "name": "ipython",
    "version": 3
   },
   "file_extension": ".py",
   "mimetype": "text/x-python",
   "name": "python",
   "nbconvert_exporter": "python",
   "pygments_lexer": "ipython3",
   "version": "3.8.8"
  }
 },
 "nbformat": 4,
 "nbformat_minor": 5
}
